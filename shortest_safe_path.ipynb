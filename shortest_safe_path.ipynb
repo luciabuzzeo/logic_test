{
  "nbformat": 4,
  "nbformat_minor": 0,
  "metadata": {
    "colab": {
      "provenance": [],
      "collapsed_sections": [],
      "authorship_tag": "ABX9TyPeuHLnwYtfnPhoEQg44KVY"
    },
    "kernelspec": {
      "name": "python3",
      "display_name": "Python 3"
    },
    "language_info": {
      "name": "python"
    }
  },
  "cells": [
    {
      "cell_type": "markdown",
      "source": [
        "Busco la cantidad mínima de saltos a realizar para llegar desde la piedra 0 a la piedra len(c)-1. Para ello, calculo todos los caminos *factibles*, elijo al de menor distancia y retorno su distancia menos 1. \n",
        "\n"
      ],
      "metadata": {
        "id": "45shASOrYME-"
      }
    },
    {
      "cell_type": "code",
      "execution_count": 3,
      "metadata": {
        "id": "JkmPZIoHQDT6"
      },
      "outputs": [],
      "source": [
        "#Creo la función _jumpOnMarsh_ que toma a c como parámetro:\n",
        "def jumpOnMarsh(c):\n",
        "#Crea una lista vacía llamada _paths_ donde guardo todos los caminos factibles\n",
        "  paths = []\n",
        "#Ejecuta el primer paso: “salto” a la piedra 0\n",
        "  jump([0], c, paths, len(c) - 1)\n",
        "#Cuando termina de ejecutarse _jump_ se tienen todos los caminos factibles en la variable _paths_. Solo resta buscar el más corto y retornar su longitud menos 1\n",
        "  paths.sort(key=lambda path: len(path))\n",
        "  return len(paths[0]) - 1\n",
        "\n",
        "\n",
        "\n"
      ]
    },
    {
      "cell_type": "code",
      "source": [
        "#Creo la función _jump_ que toma como parámetros a: camino actual, c, la lista de _paths_ y la piedra final (len(c)-1). \n",
        "def jump(currentPath, c, paths, finalStone):\n",
        "    lastStoneVisited = currentPath[len(currentPath) - 1]\n",
        "#Analizo si la última piedra del recorrido parcial es la última. \n",
        "#Si lo es, agrego el camino a _paths_ \n",
        "    if (lastStoneVisited == finalStone):\n",
        "      paths.append(currentPath)\n",
        "#Si no lo es, analizo los saltos seguros a hacer y por cada uno de ellos llamo a la función _jump_ con los nuevos saltos. Cada llamado a _jump_ va a repetir este paso, por ende al llegar al final del camino la función termina su ejecución.\n",
        "    else:\n",
        "      if (lastStoneVisited + 1 <= finalStone and c[lastStoneVisited + 1] == 0):\n",
        "        jump(currentPath + [lastStoneVisited + 1], c, paths, finalStone)\n",
        "      if (lastStoneVisited + 2 <= finalStone and c[lastStoneVisited + 2] == 0):\n",
        "        jump(currentPath + [lastStoneVisited + 2], c, paths, finalStone)"
      ],
      "metadata": {
        "id": "EVOTIkH_mJ_c"
      },
      "execution_count": 4,
      "outputs": []
    },
    {
      "cell_type": "code",
      "source": [
        "#Creo un caso de test para probar el codigo.\n",
        "if (jumpOnMarsh([0,1,0,0,0,1,0]) == 3):\n",
        "  print(\"It works\")\n",
        "else:\n",
        "  print(\"Error\")"
      ],
      "metadata": {
        "colab": {
          "base_uri": "https://localhost:8080/"
        },
        "id": "phLbk3noYFqk",
        "outputId": "ccc8edab-3765-4427-ad40-60bb61bae222"
      },
      "execution_count": 5,
      "outputs": [
        {
          "output_type": "stream",
          "name": "stdout",
          "text": [
            "It works\n"
          ]
        }
      ]
    }
  ]
}